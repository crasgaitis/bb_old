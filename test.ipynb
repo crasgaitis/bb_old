{
 "cells": [
  {
   "cell_type": "code",
   "execution_count": 9,
   "metadata": {},
   "outputs": [
    {
     "name": "stdout",
     "output_type": "stream",
     "text": [
      "Profile: englishwithlucy\n",
      "Followers: 1622666\n",
      "Following: 260\n",
      "Bio: Click to download my FREE B1-C1 Ebook! It contains ALL the vocab and grammar you need to learn to pass the B1, B2 & C1 levels of English!📕 👇\n",
      "\n"
     ]
    }
   ],
   "source": [
    "import instaloader\n",
    "\n",
    "L = instaloader.Instaloader()\n",
    "\n",
    "username = 'englishwithlucy'\n",
    "\n",
    "profile = instaloader.Profile.from_username(L.context, username)\n",
    "\n",
    "print(f\"Profile: {profile.username}\")\n",
    "print(f\"Followers: {profile.followers}\")\n",
    "print(f\"Following: {profile.followees}\")\n",
    "print(f\"Bio: {profile.biography}\\n\")\n"
   ]
  },
  {
   "cell_type": "code",
   "execution_count": 2,
   "metadata": {},
   "outputs": [
    {
     "name": "stdout",
     "output_type": "stream",
     "text": [
      "englishwithlucy\\2025-02-01_06-00-48_UTC.jpg exists [From basic to brilliant: your…] unchanged englishwithlucy\\2025-02-01_06-00-48_UTC.mp4 exists json \n",
      "englishwithlucy\\2025-01-30_06-00-54_UTC.jpg exists [Forget walking! It's time to …] unchanged englishwithlucy\\2025-01-30_06-00-54_UTC.mp4 exists json \n",
      "englishwithlucy\\2025-01-28_06-01-19_UTC.jpg exists [Boomers, Gen X, Millennials, …] unchanged englishwithlucy\\2025-01-28_06-01-19_UTC.mp4 exists json \n",
      "englishwithlucy\\2025-01-26_06-01-33_UTC.jpg exists [⏳ Life's busy - we get it! Th…] unchanged englishwithlucy\\2025-01-26_06-01-33_UTC.mp4 exists json \n",
      "englishwithlucy\\2025-01-25_06-01-09_UTC.jpg exists [It's time to move past the in…] unchanged englishwithlucy\\2025-01-25_06-01-09_UTC.mp4 exists json \n"
     ]
    }
   ],
   "source": [
    "profile = instaloader.Profile.from_username(L.context, username)\n",
    "\n",
    "max_posts = 5\n",
    "post_count = 0\n",
    "for post in profile.get_posts():\n",
    "    if post.typename == 'GraphVideo': \n",
    "        L.download_post(post, target=profile.username)\n",
    "        post_count += 1\n",
    "    if post_count == max_posts:\n",
    "        break\n",
    "    "
   ]
  },
  {
   "cell_type": "code",
   "execution_count": 3,
   "metadata": {},
   "outputs": [
    {
     "name": "stderr",
     "output_type": "stream",
     "text": [
      "c:\\Users\\catra\\anaconda3\\envs\\kinney_wkshp\\Lib\\site-packages\\pydub\\utils.py:170: RuntimeWarning: Couldn't find ffmpeg or avconv - defaulting to ffmpeg, but may not work\n",
      "  warn(\"Couldn't find ffmpeg or avconv - defaulting to ffmpeg, but may not work\", RuntimeWarning)\n"
     ]
    }
   ],
   "source": [
    "import os\n",
    "import speech_recognition as sr\n",
    "from pydub import AudioSegment\n",
    "\n",
    "def prepare_voice_file(path: str) -> str:\n",
    "    \"\"\"\n",
    "    Converts the input audio file to WAV format if necessary and returns the path to the WAV file.\n",
    "    \"\"\"\n",
    "    if os.path.splitext(path)[1] == '.wav':\n",
    "        return path\n",
    "    elif os.path.splitext(path)[1] in ('.mp3', '.m4a', '.ogg', '.flac'):\n",
    "        audio_file = AudioSegment.from_file(\n",
    "            path, format=os.path.splitext(path)[1][1:])\n",
    "        wav_file = os.path.splitext(path)[0] + '.wav'\n",
    "        audio_file.export(wav_file, format='wav')\n",
    "        return wav_file\n",
    "    else:\n",
    "        raise ValueError(\n",
    "            f'Unsupported audio format: {format(os.path.splitext(path)[1])}')\n",
    "\n",
    "\n",
    "def transcribe_audio(audio_data, language) -> str:\n",
    "    \"\"\"\n",
    "    Transcribes audio data to text using Google's speech recognition API.\n",
    "    \"\"\"\n",
    "    r = sr.Recognizer()\n",
    "    text = r.recognize_google(audio_data, language=language)\n",
    "    return text\n",
    "\n",
    "\n",
    "def write_transcription_to_file(text, output_file) -> None:\n",
    "    \"\"\"\n",
    "    Writes the transcribed text to the output file.\n",
    "    \"\"\"\n",
    "    with open(output_file, 'w') as f:\n",
    "        f.write(text)"
   ]
  },
  {
   "cell_type": "code",
   "execution_count": null,
   "metadata": {},
   "outputs": [
    {
     "name": "stdout",
     "output_type": "stream",
     "text": [
      "{'video_found': True, 'audio_found': True, 'metadata': {'major_brand': 'isom', 'minor_version': '512', 'compatible_brands': 'isomiso2avc1mp41'}, 'inputs': [{'streams': [{'input_number': 0, 'stream_number': 0, 'stream_type': 'video', 'language': None, 'default': True, 'size': [720, 1280], 'bitrate': 455, 'fps': 30.0, 'codec_name': 'h264', 'profile': '(High)', 'metadata': {'Metadata': '', 'handler_name': 'VideoHandler', 'vendor_id': '[0][0][0][0]', 'encoder': 'AVC Coding'}}, {'input_number': 0, 'stream_number': 1, 'stream_type': 'audio', 'language': None, 'default': True, 'fps': 44100, 'bitrate': 75, 'metadata': {'Metadata': '', 'handler_name': 'SoundHandler', 'vendor_id': '[0][0][0][0]'}}], 'input_number': 0}], 'duration': 43.0, 'bitrate': 536, 'start': 0.0, 'default_video_input_number': 0, 'default_video_stream_number': 0, 'video_codec_name': 'h264', 'video_profile': '(High)', 'video_size': [720, 1280], 'video_bitrate': 455, 'video_fps': 30.0, 'default_audio_input_number': 0, 'default_audio_stream_number': 1, 'audio_fps': 44100, 'audio_bitrate': 75, 'video_duration': 43.0, 'video_n_frames': 1290}\n",
      "c:\\Users\\catra\\anaconda3\\envs\\kinney_wkshp\\Lib\\site-packages\\imageio_ffmpeg\\binaries\\ffmpeg-win-x86_64-v7.1.exe -i korean_hamin/2024-03-27_13-04-49_UTC.mp4 -loglevel error -f image2pipe -vf scale=720:1280 -sws_flags bicubic -pix_fmt rgb24 -vcodec rawvideo -\n",
      "MoviePy - Writing audio in output.wav\n"
     ]
    },
    {
     "name": "stderr",
     "output_type": "stream",
     "text": [
      "                                                                    \r"
     ]
    },
    {
     "name": "stdout",
     "output_type": "stream",
     "text": [
      "MoviePy - Done.\n"
     ]
    }
   ],
   "source": [
    "import speech_recognition as sr\n",
    "from moviepy import *\n",
    "\n",
    "# language = 'english'\n",
    "# input_path = \"englishwithlucy/2025-01-28_06-01-19_UTC.mp4\"\n",
    "\n",
    "language = 'ko-KR'\n",
    "input_path = \"korean_hamin/2024-03-27_13-04-49_UTC.mp4\"\n",
    "\n",
    "output_wav = 'output.wav'\n",
    "\n",
    "video_clip = VideoFileClip(input_path)\n",
    "\n",
    "audio_clip = video_clip.audio\n",
    "audio_clip.write_audiofile(output_wav)\n",
    "\n",
    "audio_clip.close()\n",
    "video_clip.close()\n",
    "\n",
    "wav_file = prepare_voice_file(output_wav)\n",
    "with sr.AudioFile(wav_file) as source:\n",
    "    audio_data = sr.Recognizer().record(source)\n",
    "    text = transcribe_audio(audio_data, language)\n",
    "    write_transcription_to_file(text, \"test.txt\")"
   ]
  },
  {
   "cell_type": "code",
   "execution_count": null,
   "metadata": {},
   "outputs": [],
   "source": [
    "# TODO: \n",
    "# come up with an idea for new video that uses the user's personal brand and the target creator's previous videos\n",
    "\n",
    "# STEP ONE\n",
    "# summarize most popular videos from creator, user selects video\n",
    "# get video input as well for summary ^\n",
    "\n",
    "# STEP TWO\n",
    "# compare reels from the user/creator and target creator\n",
    "\n",
    "# STEP THREE\n",
    "# generate script idea\n",
    "\n",
    "# STEP FOUR\n",
    "# add in comment into script!"
   ]
  },
  {
   "cell_type": "code",
   "execution_count": null,
   "metadata": {},
   "outputs": [],
   "source": [
    "# TODO: incorporate comment (by how many likes?)\n",
    "# find most popular comment\n",
    "# incorporate it into the script"
   ]
  },
  {
   "cell_type": "code",
   "execution_count": null,
   "metadata": {},
   "outputs": [],
   "source": [
    "# TODO:\n",
    "# video calculator\n",
    "\n",
    "# use actual videos \n",
    "# use a username\n",
    "# use a genre\n",
    "# use a commenter/comment\n",
    "\n",
    "# sample video script, blocking"
   ]
  },
  {
   "cell_type": "code",
   "execution_count": null,
   "metadata": {},
   "outputs": [
    {
     "name": "stdout",
     "output_type": "stream",
     "text": [
      "#reels\\2024-12-13_20-29-32_UTC.jpg exists [This timelapse, taken through…] unchanged #reels\\2024-12-13_20-29-32_UTC.mp4 exists json \n",
      "Reel downloaded successfully: DDiC_aUJ84H\n"
     ]
    }
   ],
   "source": [
    "import instaloader\n",
    "\n",
    "L = instaloader.Instaloader()\n",
    "\n",
    "reel_url = \"https://www.instagram.com/reel/DDiC_aUJ84H/\"\n",
    "\n",
    "# Extract the shortcode from the URL\n",
    "shortcode = reel_url.split(\"/\")[-2]\n",
    "\n",
    "# Download the reel\n",
    "try:\n",
    "    post = instaloader.Post.from_shortcode(L.context, shortcode)\n",
    "    L.download_post(post, target=\"#reels\")\n",
    "    print(f\"Reel downloaded successfully: {shortcode}\")\n",
    "except Exception as e:\n",
    "    print(f\"Error downloading reel: {e}\")\n"
   ]
  },
  {
   "cell_type": "markdown",
   "metadata": {},
   "source": [
    "# video stuff"
   ]
  },
  {
   "cell_type": "code",
   "execution_count": null,
   "metadata": {},
   "outputs": [
    {
     "name": "stderr",
     "output_type": "stream",
     "text": [
      "c:\\Users\\catra\\anaconda3\\envs\\kinney_wkshp\\Lib\\site-packages\\huggingface_hub\\file_download.py:140: UserWarning: `huggingface_hub` cache-system uses symlinks by default to efficiently store duplicated files but your machine does not support them in C:\\Users\\catra\\.cache\\huggingface\\hub\\models--THUDM--CogVideoX1.5-5B-I2V. Caching files will still work but in a degraded version that might require more space on your disk. This warning can be disabled by setting the `HF_HUB_DISABLE_SYMLINKS_WARNING` environment variable. For more details, see https://huggingface.co/docs/huggingface_hub/how-to-cache#limitations.\n",
      "To support symlinks on Windows, you either need to activate Developer Mode or to run Python as an administrator. In order to activate developer mode, see this article: https://docs.microsoft.com/en-us/windows/apps/get-started/enable-your-device-for-development\n",
      "  warnings.warn(message)\n",
      "Fetching 19 files:  11%|█         | 2/19 [00:00<00:01,  9.70it/s]"
     ]
    }
   ],
   "source": [
    "import torch\n",
    "from diffusers import CogVideoXImageToVideoPipeline\n",
    "from diffusers.utils import export_to_video, load_image\n",
    "\n",
    "prompt = \"Man begins to dance happily.\"\n",
    "image = load_image(image=\"https://media.istockphoto.com/id/1417009411/photo/a-mature-african-man-looking-ecstatic-while-while-celebrating-and-dancing-by-making-a-fist.jpg?s=612x612&w=0&k=20&c=lDYtbozG2FcTucA-Ng1aD0sQ4vBfFJNU6yIC3iz5zyY=\")\n",
    "pipe = CogVideoXImageToVideoPipeline.from_pretrained(\n",
    "    \"THUDM/CogVideoX1.5-5B-I2V\",\n",
    "    torch_dtype=torch.bfloat16\n",
    ")\n",
    " \n",
    "pipe.vae.enable_tiling()\n",
    "pipe.vae.enable_slicing()\n",
    "\n",
    "video = pipe(\n",
    "    prompt=prompt,\n",
    "    image=image,\n",
    "    num_videos_per_prompt=1,\n",
    "    num_inference_steps=1,\n",
    "    num_frames=10,\n",
    "    guidance_scale=6,\n",
    "    generator=torch.Generator(device=\"cuda\").manual_seed(42),\n",
    ").frames[0]\n",
    "\n",
    "export_to_video(video, \"output.mp4\", fps=8)"
   ]
  },
  {
   "cell_type": "code",
   "execution_count": null,
   "metadata": {},
   "outputs": [],
   "source": [
    "import torch\n",
    "from diffusers import StableVideoDiffusionPipeline\n",
    "from diffusers.utils import load_image, export_to_video\n",
    "\n",
    "pipeline = StableVideoDiffusionPipeline.from_pretrained(\n",
    "    \"stabilityai/stable-video-diffusion-img2vid-xt\", \n",
    "    torch_dtype=torch.float16, \n",
    "    variant=\"fp16\"\n",
    ")\n",
    "pipeline.enable_model_cpu_offload()\n",
    "\n",
    "# Load and prepare your image here\n",
    "# Generate video frames\n",
    "frames = pipeline(image, decode_chunk_size=8, generator=generator).frames\n",
    "\n",
    "# Export to video\n",
    "export_to_video(frames, \"output.mp4\", fps=7)\n"
   ]
  }
 ],
 "metadata": {
  "kernelspec": {
   "display_name": "kinney_wkshp",
   "language": "python",
   "name": "python3"
  },
  "language_info": {
   "codemirror_mode": {
    "name": "ipython",
    "version": 3
   },
   "file_extension": ".py",
   "mimetype": "text/x-python",
   "name": "python",
   "nbconvert_exporter": "python",
   "pygments_lexer": "ipython3",
   "version": "3.12.4"
  }
 },
 "nbformat": 4,
 "nbformat_minor": 2
}
